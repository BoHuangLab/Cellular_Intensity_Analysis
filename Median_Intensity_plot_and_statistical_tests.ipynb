{
 "cells": [
  {
   "cell_type": "code",
   "execution_count": null,
   "metadata": {},
   "outputs": [],
   "source": [
    "import os\n",
    "import sys\n",
    "import numpy as np\n",
    "import pandas as pd\n",
    "import math\n",
    "from scipy import stats\n",
    "import matplotlib.pyplot as plt"
   ]
  },
  {
   "cell_type": "code",
   "execution_count": null,
   "metadata": {},
   "outputs": [],
   "source": [
    "path1 = r'C:\\mNG_Exp1'\n",
    "path2 = r'C:\\mNG_Exp2'\n",
    "path3 =  r'C:/Intensity_analysis/'\n",
    "\n",
    "list_exp1=[]\n",
    "list_exp2=[]\n",
    "for file in os.listdir(path1):\n",
    "    current = os.path.splitext(file)[0]\n",
    "    list_exp1.append(current)\n",
    "    \n",
    "for file in os.listdir(path2):\n",
    "    current = os.path.splitext(file)[0]\n",
    "    list_exp2.append(current)"
   ]
  },
  {
   "cell_type": "code",
   "execution_count": null,
   "metadata": {},
   "outputs": [],
   "source": [
    "#Get the median of raw data\n",
    "def get_median(df,path1, filename,i):\n",
    "    FITC_R = filename + \"_Results.csv\"\n",
    "    Excel = pd.read_csv(path1 + FITC_R)\n",
    "    Experiments=['_exp1', '_exp2']\n",
    "    name=filename+Experiments[i]\n",
    "    Intensity = Excel.Median\n",
    "    df[name]=Intensity\n",
    "    return df"
   ]
  },
  {
   "cell_type": "code",
   "execution_count": null,
   "metadata": {},
   "outputs": [],
   "source": [
    "df=pd.DataFrame()\n",
    "for i in range(12):\n",
    "    get_median(df,path3, list_exp1[i],0)\n",
    "    get_median(df,path3, list_exp2[i],1)\n",
    "df.median()"
   ]
  },
  {
   "cell_type": "code",
   "execution_count": null,
   "metadata": {},
   "outputs": [],
   "source": [
    "# Intensity median of four replicas\n",
    "#Mark scatter points\n",
    "mNG2=[585,452.5,537,571]\n",
    "position1=[0.9,0.9,0.9,0.9]\n",
    "\n",
    "mNG2x5=[437,479,410,386]\n",
    "position2=[1.1,1.1,1.1,1.1]\n",
    "\n",
    "mNG3A =[541.5,711,517.5,581]\n",
    "position3=[1.9,1.9,1.9,1.9]\n",
    "\n",
    "mNG3Ax5=[1002,948,1699,1796]\n",
    "position4=[2.1,2.1,2.1,2.1]\n",
    "\n",
    "mNG3K=[585,809,731,735]\n",
    "position5=[2.9,2.9,2.9,2.9]\n",
    "\n",
    "mNG3Kx5=[1429,877,1157.5,990]\n",
    "position6=[3.1,3.1,3.1,3.1]\n",
    "\n",
    "fig, ax = plt.subplots()\n",
    "plt.ylim(0,2000)\n",
    "rects1 = ax.scatter(position1, mNG2, color=\"green\",s=50,marker=\"v\",label=\"1X\")\n",
    "rects2 = ax.scatter(position2, mNG2x5, color=\"magenta\",s=50,marker=\"v\",label=\"5X\")\n",
    "rects3 = ax.scatter(position3, mNG3A, color=\"green\",s=50,marker=\"v\")\n",
    "rects4 = ax.scatter(position4, mNG3Ax5, color=\"magenta\",s=50,marker=\"v\")\n",
    "rects5 = ax.scatter(position5, mNG3K, color=\"green\",s=50,marker=\"v\")\n",
    "rects6 = ax.scatter(position6, mNG3Kx5, color=\"magenta\",s=50,marker=\"v\")\n",
    "plt.legend(prop={'size': 14})\n",
    "\n",
    "#Mark mean of each group\n",
    "mNG11X1_means = [536.375,587.75, 715]\n",
    "mNG11X5_means = [428, 1361.25, 1113.375]\n",
    "mNG11X1_position = [0.9,1.9,2.9]\n",
    "mNG11X5_position = [1.1,2.1,3.1]\n",
    "rects7 = ax.scatter(mNG11X1_position, mNG11X1_means,s=100,linewidth=2.5, color=\"black\", marker=\"_\")\n",
    "rects8 = ax.scatter(mNG11X5_position,mNG11X5_means,s=100, linewidth=2.5,color=\"black\", marker=\"_\")\n",
    "\n",
    "\n",
    "#Set x_axis label\n",
    "ind = np.arange(1,4)\n",
    "ax.set_xticks(ind)\n",
    "ax.set_xticklabels(('mNG2', 'mNG3A', 'mNG3K'), size=14)\n",
    "ax.set_ylabel('Fluorescence Intensity',fontsize=14)"
   ]
  },
  {
   "cell_type": "code",
   "execution_count": null,
   "metadata": {},
   "outputs": [],
   "source": [
    "#Statitical test\n",
    "P_mNG2=stats.ttest_ind(mNG2, mNG2x5, equal_var=True, nan_policy='propagate')[1]\n",
    "P_mNG3A=stats.ttest_ind(mNG3A, mNG3Ax5, equal_var=True, nan_policy='propagate')[1]\n",
    "P_mNG3K=stats.ttest_ind(mNG3K, mNG3Kx5, equal_var=True, nan_policy='propagate')[1]\n",
    "\n",
    "print(P_mNG2,P_mNG3A, P_mNG3K )"
   ]
  },
  {
   "cell_type": "code",
   "execution_count": null,
   "metadata": {},
   "outputs": [],
   "source": []
  }
 ],
 "metadata": {
  "kernelspec": {
   "display_name": "Python 3",
   "language": "python",
   "name": "python3"
  },
  "language_info": {
   "codemirror_mode": {
    "name": "ipython",
    "version": 3
   },
   "file_extension": ".py",
   "mimetype": "text/x-python",
   "name": "python",
   "nbconvert_exporter": "python",
   "pygments_lexer": "ipython3",
   "version": "3.8.2"
  }
 },
 "nbformat": 4,
 "nbformat_minor": 4
}
