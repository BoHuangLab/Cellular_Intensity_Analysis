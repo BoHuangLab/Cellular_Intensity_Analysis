{
 "cells": [
  {
   "cell_type": "code",
   "execution_count": null,
   "metadata": {},
   "outputs": [],
   "source": [
    "import os\n",
    "import sys\n",
    "import numpy as np\n",
    "import pandas as pd\n",
    "import math\n",
    "from scipy import stats\n",
    "import matplotlib.pyplot as plt"
   ]
  },
  {
   "cell_type": "code",
   "execution_count": null,
   "metadata": {},
   "outputs": [],
   "source": [
    "path1 = r'C:\\mNG_Exp1'\n",
    "path2 = r'C:\\mNG_Exp2'\n",
    "path3 =  r'C:/Intensity_analysis/'\n",
    "\n",
    "list_exp1=[]\n",
    "list_exp2=[]\n",
    "for file in os.listdir(path1):\n",
    "    current = os.path.splitext(file)[0]\n",
    "    list_exp1.append(current)\n",
    "    \n",
    "for file in os.listdir(path2):\n",
    "    current = os.path.splitext(file)[0]\n",
    "    list_exp2.append(current)"
   ]
  },
  {
   "cell_type": "code",
   "execution_count": null,
   "metadata": {},
   "outputs": [],
   "source": [
    "#Get the median of raw data\n",
    "def get_median(df,path1, filename,i):\n",
    "    FITC_R = filename + \"_Results.csv\"\n",
    "    Excel = pd.read_csv(path1 + FITC_R)\n",
    "    Experiments=['_exp1', '_exp2']\n",
    "    name=filename+Experiments[i]\n",
    "    Intensity = Excel.Median\n",
    "    df[name]=Intensity\n",
    "    return df"
   ]
  },
  {
   "cell_type": "code",
   "execution_count": null,
   "metadata": {},
   "outputs": [],
   "source": [
    "df=pd.DataFrame()\n",
    "for i in range(12):\n",
    "    get_median(df,path3, list_exp1[i],0)\n",
    "    get_median(df,path3, list_exp2[i],1)\n",
    "df.median()"
   ]
  },
  {
   "cell_type": "code",
   "execution_count": null,
   "metadata": {},
   "outputs": [],
   "source": [
    "# Intensity median of four replicas\n",
    "#Mark scatter points\n",
    "mNG2=[585,452.5,537,571]\n",
    "position1=[0.9,0.9,0.9,0.9]\n",
    "\n",
    "mNG2x5=[437,479,410,386]\n",
    "position2=[1.1,1.1,1.1,1.1]\n",
    "\n",
    "mNG3A =[541.5,711,517.5,581]\n",
    "position3=[1.9,1.9,1.9,1.9]\n",
    "\n",
    "mNG3Ax5=[1002,948,1699,1796]\n",
    "position4=[2.1,2.1,2.1,2.1]\n",
    "\n",
    "mNG3K=[585,809,731,735]\n",
    "position5=[2.9,2.9,2.9,2.9]\n",
    "\n",
    "mNG3Kx5=[1429,877,1157.5,990]\n",
    "position6=[3.1,3.1,3.1,3.1]\n",
    "\n",
    "fig, ax = plt.subplots()\n",
    "plt.ylim(0,2000)\n",
    "rects1 = ax.scatter(position1, mNG2, color=\"green\",s=50,marker=\"v\",label=\"1X\")\n",
    "rects2 = ax.scatter(position2, mNG2x5, color=\"magenta\",s=50,marker=\"v\",label=\"5X\")\n",
    "rects3 = ax.scatter(position3, mNG3A, color=\"green\",s=50,marker=\"v\")\n",
    "rects4 = ax.scatter(position4, mNG3Ax5, color=\"magenta\",s=50,marker=\"v\")\n",
    "rects5 = ax.scatter(position5, mNG3K, color=\"green\",s=50,marker=\"v\")\n",
    "rects6 = ax.scatter(position6, mNG3Kx5, color=\"magenta\",s=50,marker=\"v\")\n",
    "plt.legend(prop={'size': 14})\n",
    "\n",
    "#Mark mean of each group\n",
    "mNG11X1_means = [536.375,587.75, 715]\n",
    "mNG11X5_means = [428, 1361.25, 1113.375]\n",
    "mNG11X1_position = [0.9,1.9,2.9]\n",
    "mNG11X5_position = [1.1,2.1,3.1]\n",
    "rects7 = ax.scatter(mNG11X1_position, mNG11X1_means,s=100,linewidth=2.5, color=\"black\", marker=\"_\")\n",
    "rects8 = ax.scatter(mNG11X5_position,mNG11X5_means,s=100, linewidth=2.5,color=\"black\", marker=\"_\")\n",
    "\n",
    "\n",
    "#Set x_axis label\n",
    "ind = np.arange(1,4)\n",
    "ax.set_xticks(ind)\n",
    "ax.set_xticklabels(('mNG2', 'mNG3A', 'mNG3K'), size=14)\n",
    "ax.set_ylabel('Fluorescence Intensity',fontsize=14)"
   ]
  },
  {
   "cell_type": "code",
   "execution_count": 8,
   "metadata": {},
   "outputs": [
    {
     "ename": "TypeError",
     "evalue": "ttest_ind() got an unexpected keyword argument 'alternative'",
     "output_type": "error",
     "traceback": [
      "\u001b[1;31m---------------------------------------------------------------------------\u001b[0m",
      "\u001b[1;31mTypeError\u001b[0m                                 Traceback (most recent call last)",
      "\u001b[1;32m<ipython-input-8-5279f75b56d2>\u001b[0m in \u001b[0;36m<module>\u001b[1;34m\u001b[0m\n\u001b[0;32m      1\u001b[0m \u001b[1;31m#Statitical test\u001b[0m\u001b[1;33m\u001b[0m\u001b[1;33m\u001b[0m\u001b[1;33m\u001b[0m\u001b[0m\n\u001b[1;32m----> 2\u001b[1;33m \u001b[0mP_mNG2\u001b[0m\u001b[1;33m=\u001b[0m\u001b[0mstats\u001b[0m\u001b[1;33m.\u001b[0m\u001b[0mttest_ind\u001b[0m\u001b[1;33m(\u001b[0m\u001b[0mmNG2\u001b[0m\u001b[1;33m,\u001b[0m \u001b[0mmNG2x5\u001b[0m\u001b[1;33m,\u001b[0m \u001b[0mequal_var\u001b[0m\u001b[1;33m=\u001b[0m\u001b[1;32mTrue\u001b[0m\u001b[1;33m,\u001b[0m \u001b[0malternative\u001b[0m\u001b[1;33m=\u001b[0m\u001b[1;34m\"greater\"\u001b[0m\u001b[1;33m)\u001b[0m\u001b[1;33m[\u001b[0m\u001b[1;36m1\u001b[0m\u001b[1;33m]\u001b[0m\u001b[1;33m\u001b[0m\u001b[1;33m\u001b[0m\u001b[0m\n\u001b[0m\u001b[0;32m      3\u001b[0m \u001b[0mP_mNG3A\u001b[0m\u001b[1;33m=\u001b[0m\u001b[0mstats\u001b[0m\u001b[1;33m.\u001b[0m\u001b[0mttest_ind\u001b[0m\u001b[1;33m(\u001b[0m\u001b[0mmNG3A\u001b[0m\u001b[1;33m,\u001b[0m \u001b[0mmNG3Ax5\u001b[0m\u001b[1;33m,\u001b[0m \u001b[0mequal_var\u001b[0m\u001b[1;33m=\u001b[0m\u001b[1;32mTrue\u001b[0m\u001b[1;33m,\u001b[0m \u001b[0mnan_policy\u001b[0m\u001b[1;33m=\u001b[0m\u001b[1;34m'propagate'\u001b[0m\u001b[1;33m)\u001b[0m\u001b[1;33m[\u001b[0m\u001b[1;36m1\u001b[0m\u001b[1;33m]\u001b[0m\u001b[1;33m\u001b[0m\u001b[1;33m\u001b[0m\u001b[0m\n\u001b[0;32m      4\u001b[0m \u001b[0mP_mNG3K\u001b[0m\u001b[1;33m=\u001b[0m\u001b[0mstats\u001b[0m\u001b[1;33m.\u001b[0m\u001b[0mttest_ind\u001b[0m\u001b[1;33m(\u001b[0m\u001b[0mmNG3K\u001b[0m\u001b[1;33m,\u001b[0m \u001b[0mmNG3Kx5\u001b[0m\u001b[1;33m,\u001b[0m \u001b[0mequal_var\u001b[0m\u001b[1;33m=\u001b[0m\u001b[1;32mTrue\u001b[0m\u001b[1;33m,\u001b[0m \u001b[0mnan_policy\u001b[0m\u001b[1;33m=\u001b[0m\u001b[1;34m'propagate'\u001b[0m\u001b[1;33m)\u001b[0m\u001b[1;33m[\u001b[0m\u001b[1;36m1\u001b[0m\u001b[1;33m]\u001b[0m\u001b[1;33m\u001b[0m\u001b[1;33m\u001b[0m\u001b[0m\n\u001b[0;32m      5\u001b[0m \u001b[1;33m\u001b[0m\u001b[0m\n",
      "\u001b[1;31mTypeError\u001b[0m: ttest_ind() got an unexpected keyword argument 'alternative'"
     ]
    }
   ],
   "source": [
    "#Statitical test\n",
    "P_mNG2=stats.ttest_ind(mNG2, mNG2x5, equal_var=True, nan_policy='propagate')[1]\n",
    "P_mNG3A=stats.ttest_ind(mNG3A, mNG3Ax5, equal_var=True, nan_policy='propagate')[1]\n",
    "P_mNG3K=stats.ttest_ind(mNG3K, mNG3Kx5, equal_var=True, nan_policy='propagate')[1]\n",
    "\n",
    "print(P_mNG2,P_mNG3A, P_mNG3K )"
   ]
  },
  {
   "cell_type": "code",
   "execution_count": 13,
   "metadata": {},
   "outputs": [
    {
     "data": {
      "text/plain": [
       "Ttest_indResult(statistic=-3.0931335862870486, pvalue=0.03777293951463325)"
      ]
     },
     "execution_count": 13,
     "metadata": {},
     "output_type": "execute_result"
    }
   ],
   "source": [
    "stats.ttest_ind(mNG3K, mNG3Kx5, equal_var=False)"
   ]
  },
  {
   "cell_type": "code",
   "execution_count": 15,
   "metadata": {},
   "outputs": [
    {
     "data": {
      "text/plain": [
       "Ttest_indResult(statistic=3.0931335862870486, pvalue=0.03777293951463325)"
      ]
     },
     "execution_count": 15,
     "metadata": {},
     "output_type": "execute_result"
    }
   ],
   "source": [
    "stats.ttest_ind(mNG3Kx5,mNG3K, equal_var=False)"
   ]
  },
  {
   "cell_type": "code",
   "execution_count": 19,
   "metadata": {},
   "outputs": [
    {
     "name": "stdout",
     "output_type": "stream",
     "text": [
      "-3.0283170626976013 3.3886864353425517 3.0931335862870486 0.027411873193955612 0.03843579161463868 0.03777293951463325\n"
     ]
    }
   ],
   "source": [
    "T_mNG2, P_mNG2=stats.ttest_ind(mNG2x5, mNG2, equal_var=False, nan_policy='propagate')\n",
    "T_mNG3A,P_mNG3A=stats.ttest_ind(mNG3Ax5, mNG3A, equal_var=False, nan_policy='propagate')\n",
    "T_mNG3K,P_mNG3K=stats.ttest_ind(mNG3Kx5, mNG3K, equal_var=False, nan_policy='propagate')\n",
    "\n",
    "print(T_mNG2,T_mNG3A, T_mNG3K,P_mNG2,P_mNG3A, P_mNG3K )"
   ]
  },
  {
   "cell_type": "code",
   "execution_count": null,
   "metadata": {},
   "outputs": [],
   "source": []
  }
 ],
 "metadata": {
  "kernelspec": {
   "display_name": "Python 3",
   "language": "python",
   "name": "python3"
  },
  "language_info": {
   "codemirror_mode": {
    "name": "ipython",
    "version": 3
   },
   "file_extension": ".py",
   "mimetype": "text/x-python",
   "name": "python",
   "nbconvert_exporter": "python",
   "pygments_lexer": "ipython3",
   "version": "3.8.2"
  }
 },
 "nbformat": 4,
 "nbformat_minor": 4
}
