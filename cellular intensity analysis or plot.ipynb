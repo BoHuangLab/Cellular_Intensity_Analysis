{
 "cells": [
  {
   "cell_type": "code",
   "execution_count": 2,
   "metadata": {},
   "outputs": [],
   "source": [
    "import numpy as np\n",
    "import pandas as pd\n",
    "import math\n",
    "from scipy import stats\n",
    "import matplotlib.pyplot as plt"
   ]
  },
  {
   "cell_type": "code",
   "execution_count": 5,
   "metadata": {},
   "outputs": [
    {
     "ename": "SyntaxError",
     "evalue": "EOL while scanning string literal (<ipython-input-5-83dabbead874>, line 1)",
     "output_type": "error",
     "traceback": [
      "\u001b[1;36m  File \u001b[1;32m\"<ipython-input-5-83dabbead874>\"\u001b[1;36m, line \u001b[1;32m1\u001b[0m\n\u001b[1;33m    path1 = r'C:\\WorkStudy\\mNG_Clover_paper\\20190916\\Analysis\\Mask\\'\u001b[0m\n\u001b[1;37m                                                                    ^\u001b[0m\n\u001b[1;31mSyntaxError\u001b[0m\u001b[1;31m:\u001b[0m EOL while scanning string literal\n"
     ]
    }
   ],
   "source": [
    "path1 = r'C:\\WorkStudy\\mNG_Clover_paper\\20190916\\Analysis\\Mask'\n",
    "filename = \"5XmNG2_1-3_FITC_background.csv\"\n",
    "Excel = pd.read_csv(path1 + filename)\n",
    "Background = pd.read_csv(r'C:\\WorkStudy\\mNG_Clover_paper\\20190916\\Analysis\\Mask\\5XmNG2_1-3_FITC_background.csv')\n",
    "Excel.tail()"
   ]
  },
  {
   "cell_type": "code",
   "execution_count": 40,
   "metadata": {},
   "outputs": [],
   "source": [
    "Excel = Excel.iloc[0:2526,:]"
   ]
  },
  {
   "cell_type": "code",
   "execution_count": 48,
   "metadata": {},
   "outputs": [
    {
     "data": {
      "text/html": [
       "<div>\n",
       "<style scoped>\n",
       "    .dataframe tbody tr th:only-of-type {\n",
       "        vertical-align: middle;\n",
       "    }\n",
       "\n",
       "    .dataframe tbody tr th {\n",
       "        vertical-align: top;\n",
       "    }\n",
       "\n",
       "    .dataframe thead th {\n",
       "        text-align: right;\n",
       "    }\n",
       "</style>\n",
       "<table border=\"1\" class=\"dataframe\">\n",
       "  <thead>\n",
       "    <tr style=\"text-align: right;\">\n",
       "      <th></th>\n",
       "      <th>Median</th>\n",
       "    </tr>\n",
       "  </thead>\n",
       "  <tbody>\n",
       "    <tr>\n",
       "      <th>0</th>\n",
       "      <td>837.0</td>\n",
       "    </tr>\n",
       "    <tr>\n",
       "      <th>1</th>\n",
       "      <td>704.0</td>\n",
       "    </tr>\n",
       "    <tr>\n",
       "      <th>2</th>\n",
       "      <td>967.0</td>\n",
       "    </tr>\n",
       "    <tr>\n",
       "      <th>3</th>\n",
       "      <td>696.0</td>\n",
       "    </tr>\n",
       "    <tr>\n",
       "      <th>4</th>\n",
       "      <td>956.0</td>\n",
       "    </tr>\n",
       "  </tbody>\n",
       "</table>\n",
       "</div>"
      ],
      "text/plain": [
       "   Median\n",
       "0   837.0\n",
       "1   704.0\n",
       "2   967.0\n",
       "3   696.0\n",
       "4   956.0"
      ]
     },
     "execution_count": 48,
     "metadata": {},
     "output_type": "execute_result"
    }
   ],
   "source": [
    "#use median of each cell to represent the overall intensity\n",
    "Intensity = Excel[[\"Median\"]]\n",
    "Intensity.head()"
   ]
  },
  {
   "cell_type": "code",
   "execution_count": 42,
   "metadata": {},
   "outputs": [
    {
     "data": {
      "text/html": [
       "<div>\n",
       "<style scoped>\n",
       "    .dataframe tbody tr th:only-of-type {\n",
       "        vertical-align: middle;\n",
       "    }\n",
       "\n",
       "    .dataframe tbody tr th {\n",
       "        vertical-align: top;\n",
       "    }\n",
       "\n",
       "    .dataframe thead th {\n",
       "        text-align: right;\n",
       "    }\n",
       "</style>\n",
       "<table border=\"1\" class=\"dataframe\">\n",
       "  <thead>\n",
       "    <tr style=\"text-align: right;\">\n",
       "      <th></th>\n",
       "      <th></th>\n",
       "      <th>Label</th>\n",
       "      <th>Area</th>\n",
       "      <th>Mean</th>\n",
       "      <th>Min</th>\n",
       "      <th>Max</th>\n",
       "      <th>Circ.</th>\n",
       "      <th>Median</th>\n",
       "      <th>AR</th>\n",
       "      <th>Round</th>\n",
       "      <th>Solidity</th>\n",
       "      <th>MinThr</th>\n",
       "      <th>MaxThr</th>\n",
       "    </tr>\n",
       "  </thead>\n",
       "  <tbody>\n",
       "    <tr>\n",
       "      <th>0</th>\n",
       "      <td>1</td>\n",
       "      <td>5XmNG2_1-3.tif</td>\n",
       "      <td>693995.8281</td>\n",
       "      <td>719.1318</td>\n",
       "      <td>555</td>\n",
       "      <td>5594</td>\n",
       "      <td>0.3067</td>\n",
       "      <td>713</td>\n",
       "      <td>1.0479</td>\n",
       "      <td>0.9542</td>\n",
       "      <td>0.3905</td>\n",
       "      <td>1</td>\n",
       "      <td>65535</td>\n",
       "    </tr>\n",
       "  </tbody>\n",
       "</table>\n",
       "</div>"
      ],
      "text/plain": [
       "               Label         Area      Mean  Min   Max   Circ.  Median  \\\n",
       "0  1  5XmNG2_1-3.tif  693995.8281  719.1318  555  5594  0.3067     713   \n",
       "\n",
       "       AR   Round  Solidity  MinThr  MaxThr  \n",
       "0  1.0479  0.9542    0.3905       1   65535  "
      ]
     },
     "execution_count": 42,
     "metadata": {},
     "output_type": "execute_result"
    }
   ],
   "source": [
    "Background"
   ]
  },
  {
   "cell_type": "code",
   "execution_count": 100,
   "metadata": {
    "scrolled": true
   },
   "outputs": [
    {
     "name": "stderr",
     "output_type": "stream",
     "text": [
      "C:\\Users\\16032\\AppData\\Local\\Programs\\Python\\Python38-32\\lib\\site-packages\\pandas\\core\\indexing.py:671: SettingWithCopyWarning: \n",
      "A value is trying to be set on a copy of a slice from a DataFrame\n",
      "\n",
      "See the caveats in the documentation: https://pandas.pydata.org/pandas-docs/stable/user_guide/indexing.html#returning-a-view-versus-a-copy\n",
      "  self._setitem_with_indexer(indexer, value)\n"
     ]
    },
    {
     "data": {
      "text/html": [
       "<div>\n",
       "<style scoped>\n",
       "    .dataframe tbody tr th:only-of-type {\n",
       "        vertical-align: middle;\n",
       "    }\n",
       "\n",
       "    .dataframe tbody tr th {\n",
       "        vertical-align: top;\n",
       "    }\n",
       "\n",
       "    .dataframe thead th {\n",
       "        text-align: right;\n",
       "    }\n",
       "</style>\n",
       "<table border=\"1\" class=\"dataframe\">\n",
       "  <thead>\n",
       "    <tr style=\"text-align: right;\">\n",
       "      <th></th>\n",
       "      <th>Median</th>\n",
       "      <th>subbg</th>\n",
       "    </tr>\n",
       "  </thead>\n",
       "  <tbody>\n",
       "    <tr>\n",
       "      <th>0</th>\n",
       "      <td>837.0</td>\n",
       "      <td>124.0</td>\n",
       "    </tr>\n",
       "    <tr>\n",
       "      <th>1</th>\n",
       "      <td>704.0</td>\n",
       "      <td>-9.0</td>\n",
       "    </tr>\n",
       "    <tr>\n",
       "      <th>2</th>\n",
       "      <td>967.0</td>\n",
       "      <td>254.0</td>\n",
       "    </tr>\n",
       "    <tr>\n",
       "      <th>3</th>\n",
       "      <td>696.0</td>\n",
       "      <td>-17.0</td>\n",
       "    </tr>\n",
       "    <tr>\n",
       "      <th>4</th>\n",
       "      <td>956.0</td>\n",
       "      <td>243.0</td>\n",
       "    </tr>\n",
       "    <tr>\n",
       "      <th>...</th>\n",
       "      <td>...</td>\n",
       "      <td>...</td>\n",
       "    </tr>\n",
       "    <tr>\n",
       "      <th>2522</th>\n",
       "      <td>759.0</td>\n",
       "      <td>46.0</td>\n",
       "    </tr>\n",
       "    <tr>\n",
       "      <th>2523</th>\n",
       "      <td>716.0</td>\n",
       "      <td>3.0</td>\n",
       "    </tr>\n",
       "    <tr>\n",
       "      <th>2524</th>\n",
       "      <td>866.0</td>\n",
       "      <td>153.0</td>\n",
       "    </tr>\n",
       "    <tr>\n",
       "      <th>2525</th>\n",
       "      <td>743.0</td>\n",
       "      <td>30.0</td>\n",
       "    </tr>\n",
       "    <tr>\n",
       "      <th>subbg</th>\n",
       "      <td>NaN</td>\n",
       "      <td>NaN</td>\n",
       "    </tr>\n",
       "  </tbody>\n",
       "</table>\n",
       "<p>2527 rows × 2 columns</p>\n",
       "</div>"
      ],
      "text/plain": [
       "       Median  subbg\n",
       "0       837.0  124.0\n",
       "1       704.0   -9.0\n",
       "2       967.0  254.0\n",
       "3       696.0  -17.0\n",
       "4       956.0  243.0\n",
       "...       ...    ...\n",
       "2522    759.0   46.0\n",
       "2523    716.0    3.0\n",
       "2524    866.0  153.0\n",
       "2525    743.0   30.0\n",
       "subbg     NaN    NaN\n",
       "\n",
       "[2527 rows x 2 columns]"
      ]
     },
     "execution_count": 100,
     "metadata": {},
     "output_type": "execute_result"
    }
   ],
   "source": [
    "#substract background from autofluorescence\n",
    "Substract_background = Excel.Median.apply(lambda x : x-713 )\n",
    "Intensity.loc[\"subbg\"] = Substract_background.copy()\n",
    "Intensity"
   ]
  },
  {
   "cell_type": "code",
   "execution_count": 67,
   "metadata": {},
   "outputs": [],
   "source": [
    "Intensity2 = Intensity.sort_values(\"subbg\")"
   ]
  },
  {
   "cell_type": "code",
   "execution_count": 86,
   "metadata": {},
   "outputs": [
    {
     "data": {
      "text/html": [
       "<div>\n",
       "<style scoped>\n",
       "    .dataframe tbody tr th:only-of-type {\n",
       "        vertical-align: middle;\n",
       "    }\n",
       "\n",
       "    .dataframe tbody tr th {\n",
       "        vertical-align: top;\n",
       "    }\n",
       "\n",
       "    .dataframe thead th {\n",
       "        text-align: right;\n",
       "    }\n",
       "</style>\n",
       "<table border=\"1\" class=\"dataframe\">\n",
       "  <thead>\n",
       "    <tr style=\"text-align: right;\">\n",
       "      <th></th>\n",
       "      <th>Median</th>\n",
       "      <th>subbg</th>\n",
       "    </tr>\n",
       "  </thead>\n",
       "  <tbody>\n",
       "    <tr>\n",
       "      <th>0</th>\n",
       "      <td>715.0</td>\n",
       "      <td>2.0</td>\n",
       "    </tr>\n",
       "    <tr>\n",
       "      <th>1</th>\n",
       "      <td>715.0</td>\n",
       "      <td>2.0</td>\n",
       "    </tr>\n",
       "    <tr>\n",
       "      <th>2</th>\n",
       "      <td>715.0</td>\n",
       "      <td>2.0</td>\n",
       "    </tr>\n",
       "    <tr>\n",
       "      <th>3</th>\n",
       "      <td>715.0</td>\n",
       "      <td>2.0</td>\n",
       "    </tr>\n",
       "    <tr>\n",
       "      <th>4</th>\n",
       "      <td>715.0</td>\n",
       "      <td>2.0</td>\n",
       "    </tr>\n",
       "    <tr>\n",
       "      <th>...</th>\n",
       "      <td>...</td>\n",
       "      <td>...</td>\n",
       "    </tr>\n",
       "    <tr>\n",
       "      <th>2095</th>\n",
       "      <td>1739.0</td>\n",
       "      <td>1026.0</td>\n",
       "    </tr>\n",
       "    <tr>\n",
       "      <th>2096</th>\n",
       "      <td>1755.0</td>\n",
       "      <td>1042.0</td>\n",
       "    </tr>\n",
       "    <tr>\n",
       "      <th>2097</th>\n",
       "      <td>1756.0</td>\n",
       "      <td>1043.0</td>\n",
       "    </tr>\n",
       "    <tr>\n",
       "      <th>2098</th>\n",
       "      <td>1764.0</td>\n",
       "      <td>1051.0</td>\n",
       "    </tr>\n",
       "    <tr>\n",
       "      <th>2099</th>\n",
       "      <td>1765.0</td>\n",
       "      <td>1052.0</td>\n",
       "    </tr>\n",
       "  </tbody>\n",
       "</table>\n",
       "<p>2100 rows × 2 columns</p>\n",
       "</div>"
      ],
      "text/plain": [
       "      Median   subbg\n",
       "0      715.0     2.0\n",
       "1      715.0     2.0\n",
       "2      715.0     2.0\n",
       "3      715.0     2.0\n",
       "4      715.0     2.0\n",
       "...      ...     ...\n",
       "2095  1739.0  1026.0\n",
       "2096  1755.0  1042.0\n",
       "2097  1756.0  1043.0\n",
       "2098  1764.0  1051.0\n",
       "2099  1765.0  1052.0\n",
       "\n",
       "[2100 rows x 2 columns]"
      ]
     },
     "execution_count": 86,
     "metadata": {},
     "output_type": "execute_result"
    }
   ],
   "source": [
    "#exclude bottom 10% cells\n",
    "Intensity2.reset_index(inplace=True, drop=True)\n",
    "Intensity3 = Intensity2.iloc[150:2250,:]\n",
    "Intensity3.reset_index(inplace=True, drop=True)\n",
    "Intensity3"
   ]
  },
  {
   "cell_type": "code",
   "execution_count": 103,
   "metadata": {},
   "outputs": [
    {
     "data": {
      "text/plain": [
       "(array([159., 193., 217., 210., 116.,  88.,  50.,  57.,  42.,  28.,  30.,\n",
       "         21.,  22.,  26.,  20.,  26.,  14.,  20.,  13.,  17.,  13.,  16.,\n",
       "         13.,  18.,  18.,  14.,   8.,   8.,  17.,  10.,  10.,   9.,   8.,\n",
       "         15.,   7.,  11.,   6.,   9.,   8.,  13.,   6.,   8.,  14.,  10.,\n",
       "         11.,   9.,   6.,   3.,   6.,   7.,   9.,   4.,   9.,   8.,   3.,\n",
       "          9.,   5.,   7.,   8.,  10.,   9.,   5.,   7.,   6.,   8.,  11.,\n",
       "          5.,   6.,   7.,   6.,   5.,   1.,   8.,   7.,   6.,   4.,   4.,\n",
       "          4.,   2.,   7.,   8.,   4.,  13.,   2.,   4.,   5.,   5.,   4.,\n",
       "          5.,   5.,   3.,   5.,   3.,   3.,   5.,   4.,   2.,   3.,   4.,\n",
       "          6.,   1.,   3.,   2.,   3.,   8.,   5.,   5.,   5.,   4.,   1.,\n",
       "          5.,   1.,   4.,   6.,   5.,   1.,   3.,   4.,   3.,   2.,   7.,\n",
       "          3.,   1.,   1.,   2.,   2.,   6.,   1.,   0.,   1.,   0.,   4.,\n",
       "          3.,   1.,   4.,   2.,   2.,   5.,   1.,   3.,   2.,   3.,   2.,\n",
       "          1.,   3.,   1.,   1.,   0.,   2.,   2.]),\n",
       " array([   2.,    9.,   16.,   23.,   30.,   37.,   44.,   51.,   58.,\n",
       "          65.,   72.,   79.,   86.,   93.,  100.,  107.,  114.,  121.,\n",
       "         128.,  135.,  142.,  149.,  156.,  163.,  170.,  177.,  184.,\n",
       "         191.,  198.,  205.,  212.,  219.,  226.,  233.,  240.,  247.,\n",
       "         254.,  261.,  268.,  275.,  282.,  289.,  296.,  303.,  310.,\n",
       "         317.,  324.,  331.,  338.,  345.,  352.,  359.,  366.,  373.,\n",
       "         380.,  387.,  394.,  401.,  408.,  415.,  422.,  429.,  436.,\n",
       "         443.,  450.,  457.,  464.,  471.,  478.,  485.,  492.,  499.,\n",
       "         506.,  513.,  520.,  527.,  534.,  541.,  548.,  555.,  562.,\n",
       "         569.,  576.,  583.,  590.,  597.,  604.,  611.,  618.,  625.,\n",
       "         632.,  639.,  646.,  653.,  660.,  667.,  674.,  681.,  688.,\n",
       "         695.,  702.,  709.,  716.,  723.,  730.,  737.,  744.,  751.,\n",
       "         758.,  765.,  772.,  779.,  786.,  793.,  800.,  807.,  814.,\n",
       "         821.,  828.,  835.,  842.,  849.,  856.,  863.,  870.,  877.,\n",
       "         884.,  891.,  898.,  905.,  912.,  919.,  926.,  933.,  940.,\n",
       "         947.,  954.,  961.,  968.,  975.,  982.,  989.,  996., 1003.,\n",
       "        1010., 1017., 1024., 1031., 1038., 1045., 1052.]),\n",
       " <a list of 150 Patch objects>)"
      ]
     },
     "execution_count": 103,
     "metadata": {},
     "output_type": "execute_result"
    },
    {
     "data": {
      "image/png": "[encoded data removed]",
      "text/plain": [
       "<Figure size 432x288 with 1 Axes>"
      ]
     },
     "metadata": {
      "needs_background": "light"
     },
     "output_type": "display_data"
    }
   ],
   "source": [
    "plt.hist(Intensity3.subbg, bins=150)"
   ]
  },
  {
   "cell_type": "code",
   "execution_count": null,
   "metadata": {},
   "outputs": [],
   "source": []
  }
 ],
 "metadata": {
  "kernelspec": {
   "display_name": "Python 3",
   "language": "python",
   "name": "python3"
  },
  "language_info": {
   "codemirror_mode": {
    "name": "ipython",
    "version": 3
   },
   "file_extension": ".py",
   "mimetype": "text/x-python",
   "name": "python",
   "nbconvert_exporter": "python",
   "pygments_lexer": "ipython3",
   "version": "3.8.2"
  }
 },
 "nbformat": 4,
 "nbformat_minor": 4
}
