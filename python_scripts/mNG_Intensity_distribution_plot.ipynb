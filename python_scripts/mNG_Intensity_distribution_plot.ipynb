{
 "cells": [
  {
   "cell_type": "code",
   "execution_count": null,
   "metadata": {},
   "outputs": [],
   "source": [
    "import os\n",
    "import sys\n",
    "import numpy as np\n",
    "import pandas as pd\n",
    "import math\n",
    "import matplotlib.pyplot as plt"
   ]
  },
  {
   "cell_type": "code",
   "execution_count": null,
   "metadata": {},
   "outputs": [],
   "source": [
    "path1 = r'C:\\mNG_Exp1'\n",
    "path2 = r'C:\\mNG_Exp2'\n",
    "path3 =  r'C:/Intensity_analysis/'\n",
    "\n",
    "list_exp1=[]\n",
    "list_exp2=[]\n",
    "for file in os.listdir(path1):\n",
    "    current = os.path.splitext(file)[0]\n",
    "    list_exp1.append(current)\n",
    "    \n",
    "for file in os.listdir(path2):\n",
    "    current = os.path.splitext(file)[0]\n",
    "    list_exp2.append(current)"
   ]
  },
  {
   "cell_type": "code",
   "execution_count": null,
   "metadata": {},
   "outputs": [],
   "source": [
    "#histogram_average\n",
    "def his_intensity(filename, path1,df,i):\n",
    "    FITC_R = filename + \"_Results.csv\"\n",
    "    Excel = pd.read_csv(path1 + FITC_R)\n",
    "    Experiments=['_exp1', '_exp2']\n",
    "    name=filename+Experiments[i]\n",
    "   #use median of each cell to represent the overall intensity\n",
    "    Intensity = Excel[[\"Median\"]]\n",
    "    #output name_number_median\n",
    "    Intensity[\"log10_conc\"] = Intensity.Median.apply(lambda x: np.log10(x))\n",
    "    bins=np.arange(1,6,0.1)\n",
    "    b=np.histogram(Intensity.log10_conc, bins=bins, weights=None, density=True)[0]\n",
    "    c=b.tolist()\n",
    "    c.append(0) #to match the index number to convert into dataframe\n",
    "    df[name]=c\n",
    "    return df"
   ]
  },
  {
   "cell_type": "code",
   "execution_count": null,
   "metadata": {},
   "outputs": [],
   "source": [
    "def plot_h(df,bins,c,legend):\n",
    "    df[\"Mean\"]=df.mean(axis=1, skipna=True, numeric_only=float)\n",
    "    df[\"STD\"]=df.std(axis=1, skipna=True, numeric_only=float)\n",
    "    df[\"Maxi\"]=df[\"Mean\"]+df[\"STD\"]\n",
    "    df[\"Min\"]=df[\"Mean\"]-df[\"STD\"]\n",
    "    plt.fill_between(bins, df.Maxi, df.Min, color=c,alpha=0.1)#alpha is inverse_transparancy\n",
    "    plt.plot(bins,df.Mean,color=c,label=legend)\n",
    "    plt.legend(prop={'size': 14})\n",
    "    plt.xlim(1,5)"
   ]
  },
  {
   "cell_type": "code",
   "execution_count": null,
   "metadata": {},
   "outputs": [],
   "source": [
    "bins=np.arange(1,6,0.1)\n",
    "#plot mNG2 from with FFT\n",
    "fig, axs = plt.subplots()\n",
    "name=[6,7]\n",
    "df=pd.DataFrame()\n",
    "for i in name:\n",
    "    df=his_intensity(list_exp1[i], path3,df,0)\n",
    "    df=his_intensity(list_exp2[i], path3,df,1)\n",
    "plot_h(df,bins,\"green\",\"1X\")\n",
    "\n",
    "#plot 5xmNG2 from with FFT\n",
    "name=[0,1]\n",
    "df=pd.DataFrame()\n",
    "for i in name:\n",
    "    df=his_intensity(list_exp1[i], path3,df,0)\n",
    "    df=his_intensity(list_exp2[i], path3,df,1)\n",
    "plot_h(df,bins,\"magenta\",\"5X\")\n",
    "\n",
    "#plot mNG3A \n",
    "fig, axs = plt.subplots()\n",
    "name=[8,9]\n",
    "df=pd.DataFrame()\n",
    "for i in name:\n",
    "    df=his_intensity(list_exp1[i], path3,df,0)\n",
    "    df=his_intensity(list_exp2[i], path3,df,1)\n",
    "plot_h(df,bins,\"green\",\"1X\")\n",
    "       \n",
    "#plot 5xmNG3Afrom with FFT\n",
    "name=[2,3]\n",
    "df=pd.DataFrame()\n",
    "for i in name:\n",
    "    df=his_intensity(list_exp1[i], path3,df,0)\n",
    "    df=his_intensity(list_exp2[i], path3,df,1)\n",
    "plot_h(df,bins,\"magenta\",\"5X\")\n",
    "\n",
    "#plot mNG3K \n",
    "fig, axs = plt.subplots()\n",
    "name=[10,11]\n",
    "df=pd.DataFrame()\n",
    "for i in name:\n",
    "    df=his_intensity(list_exp1[i], path3,df,0)\n",
    "    df=his_intensity(list_exp2[i], path3,df,1)\n",
    "plot_h(df,bins,\"green\",\"1X\")\n",
    "\n",
    "#plot 5xmNG3Kfrom with FFT\n",
    "name=[4,5]\n",
    "df=pd.DataFrame()\n",
    "for i in name:\n",
    "    df=his_intensity(list_exp1[i], path3,df,0)\n",
    "    df=his_intensity(list_exp2[i], path3,df,1)\n",
    "plot_h(df,bins,\"magenta\",\"5X\")\n"
   ]
  },
  {
   "cell_type": "code",
   "execution_count": null,
   "metadata": {},
   "outputs": [],
   "source": []
  }
 ],
 "metadata": {
  "kernelspec": {
   "display_name": "Python 3",
   "language": "python",
   "name": "python3"
  },
  "language_info": {
   "codemirror_mode": {
    "name": "ipython",
    "version": 3
   },
   "file_extension": ".py",
   "mimetype": "text/x-python",
   "name": "python",
   "nbconvert_exporter": "python",
   "pygments_lexer": "ipython3",
   "version": "3.8.2"
  }
 },
 "nbformat": 4,
 "nbformat_minor": 4
}
